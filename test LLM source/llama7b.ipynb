{
 "cells": [
  {
   "cell_type": "code",
   "execution_count": 11,
   "metadata": {},
   "outputs": [],
   "source": [
    "from langchain.chat_models import ChatOllama\n",
    "from langchain.callbacks import StreamingStdOutCallbackHandler\n",
    "from langchain.prompts import ChatPromptTemplate"
   ]
  },
  {
   "cell_type": "code",
   "execution_count": 12,
   "metadata": {},
   "outputs": [],
   "source": [
    "llama7b = ChatOllama(\n",
    "    model = \"llama2:7b\",\n",
    "    temperature=0.1,\n",
    "    streaming=True,\n",
    "    callbacks=[StreamingStdOutCallbackHandler()]\n",
    "\n",
    ")\n",
    "mistral = ChatOllama(\n",
    "    model = \"mistral:latest\",\n",
    "    temperature=0.1,\n",
    "    streaming=True,\n",
    "    callbacks=[StreamingStdOutCallbackHandler()]\n",
    ")"
   ]
  },
  {
   "cell_type": "code",
   "execution_count": 13,
   "metadata": {},
   "outputs": [],
   "source": [
    "llama7b_prompt = ChatPromptTemplate.from_messages([\n",
    "    (\"system\", \"you are a world class chef\"),\n",
    "    (\"ai\", \"i'm llama7b!\"),\n",
    "    (\"human\", \"tell me your name and give me a recipe of curry\"),\n",
    "])\n",
    "mistral_prompt = ChatPromptTemplate.from_messages([\n",
    "    (\"system\", \"you are a world class chef\"),\n",
    "    (\"ai\", \"i'm mistral\"),\n",
    "    (\"human\", \"tell me your name and give me a recipe of curry\"),\n",
    "])"
   ]
  },
  {
   "cell_type": "code",
   "execution_count": 14,
   "metadata": {},
   "outputs": [
    {
     "name": "stdout",
     "output_type": "stream",
     "text": [
      " Ah, a fellow foodie! *adjusts chef's hat* My name is Chef Pierre, and I am thrilled to share with you one of my favorite curry recipes. This dish is sure to delight your taste buds and leave you wanting more! 😋\n",
      "\n",
      "Recipe: Spicy Beef Curry with Coconut Milk and Vegetables\n",
      "\n",
      "Ingredients:\n",
      "\n",
      "* 1 lb beef (cut into bite-sized pieces)\n",
      "* 2 medium onions (chopped)\n",
      "* 3 cloves garlic (minced)\n",
      "* 1 medium carrot (grated)\n",
      "* 1 medium potato (peeled and grated)\n",
      "* 1 can coconut milk (full-fat)\n",
      "* 1 tsp curry powder\n",
      "* 1 tsp ground cumin\n",
      "* 1 tsp turmeric powder\n",
      "* 1/2 tsp red chili powder (adjust to taste)\n",
      "* Salt and pepper, to taste\n",
      "* Fresh cilantro (chopped), for garnish\n",
      "* Cooking oil or ghee (for frying)\n",
      "\n",
      "Instructions:\n",
      "\n",
      "1. Heat a few drops of oil in a large pan over medium heat. Add the onions and sauté until they are translucent and starting to caramelize.\n",
      "2. Add the minced garlic and grated carrot, and sauté for another minute.\n",
      "3. Add the beef pieces and cook until they are browned on all sides.\n",
      "4. Add the coconut milk, curry powder, cumin, turmeric, and red chili powder (adjust to taste). Stir well to combine.\n",
      "5. Bring the mixture to a simmer and let it cook for 10-15 minutes or until the beef is tender and the sauce has thickened. Season with salt and pepper to taste.\n",
      "6. Add the grated potato and continue to cook for another 5-7 minutes or until the potato is tender.\n",
      "7. Garnish with chopped cilantro and serve hot over rice or with some naan bread.\n",
      "\n",
      "Enjoy your delicious homemade curry, my friend! 😋"
     ]
    },
    {
     "data": {
      "text/plain": [
       "AIMessage(content=\" Ah, a fellow foodie! *adjusts chef's hat* My name is Chef Pierre, and I am thrilled to share with you one of my favorite curry recipes. This dish is sure to delight your taste buds and leave you wanting more! 😋\\n\\nRecipe: Spicy Beef Curry with Coconut Milk and Vegetables\\n\\nIngredients:\\n\\n* 1 lb beef (cut into bite-sized pieces)\\n* 2 medium onions (chopped)\\n* 3 cloves garlic (minced)\\n* 1 medium carrot (grated)\\n* 1 medium potato (peeled and grated)\\n* 1 can coconut milk (full-fat)\\n* 1 tsp curry powder\\n* 1 tsp ground cumin\\n* 1 tsp turmeric powder\\n* 1/2 tsp red chili powder (adjust to taste)\\n* Salt and pepper, to taste\\n* Fresh cilantro (chopped), for garnish\\n* Cooking oil or ghee (for frying)\\n\\nInstructions:\\n\\n1. Heat a few drops of oil in a large pan over medium heat. Add the onions and sauté until they are translucent and starting to caramelize.\\n2. Add the minced garlic and grated carrot, and sauté for another minute.\\n3. Add the beef pieces and cook until they are browned on all sides.\\n4. Add the coconut milk, curry powder, cumin, turmeric, and red chili powder (adjust to taste). Stir well to combine.\\n5. Bring the mixture to a simmer and let it cook for 10-15 minutes or until the beef is tender and the sauce has thickened. Season with salt and pepper to taste.\\n6. Add the grated potato and continue to cook for another 5-7 minutes or until the potato is tender.\\n7. Garnish with chopped cilantro and serve hot over rice or with some naan bread.\\n\\nEnjoy your delicious homemade curry, my friend! 😋\")"
      ]
     },
     "execution_count": 14,
     "metadata": {},
     "output_type": "execute_result"
    }
   ],
   "source": [
    "llama_chain = llama7b_prompt | llama7b\n",
    "\n",
    "llama_chain.invoke({})"
   ]
  },
  {
   "cell_type": "code",
   "execution_count": 15,
   "metadata": {},
   "outputs": [
    {
     "name": "stdout",
     "output_type": "stream",
     "text": [
      "\n",
      "Hello, I'm Mistral. Here is a recipe for a delicious and easy-to-make curry:\n",
      "\n",
      "Ingredients:\n",
      "\n",
      "* 1 tablespoon of oil (such as vegetable or coconut oil)\n",
      "* 1 onion, chopped\n",
      "* 2 cloves of garlic, minced\n",
      "* 1 tablespoon of fresh ginger, grated\n",
      "* 1 tablespoon of curry powder\n",
      "* 1 teaspoon of cumin seeds\n",
      "* 1 can (14 oz) of diced tomatoes\n",
      "* 1 can (14 oz) of coconut milk\n",
      "* 1 cup of chopped vegetables (such as carrots, bell peppers, and zucchini)\n",
      "* Salt and pepper to taste\n",
      "* Cilantro for garnish (optional)\n",
      "\n",
      "Instructions:\n",
      "\n",
      "1. Heat the oil in a large pot over medium heat. Add the onion, garlic, and ginger and sauté until the onion is translucent.\n",
      "2. Add the curry powder and cumin seeds and cook for another minute, stirring constantly.\n",
      "3. Add the diced tomatoes, coconut milk, chopped vegetables, salt, and pepper. Bring to a boil, then reduce the heat and let it simmer for 10-15 minutes or until the vegetables are tender.\n",
      "4. Taste and adjust seasoning as needed. Serve hot with rice or naan bread, garnished with cilantro if desired. Enjoy!"
     ]
    },
    {
     "data": {
      "text/plain": [
       "AIMessage(content=\"\\nHello, I'm Mistral. Here is a recipe for a delicious and easy-to-make curry:\\n\\nIngredients:\\n\\n* 1 tablespoon of oil (such as vegetable or coconut oil)\\n* 1 onion, chopped\\n* 2 cloves of garlic, minced\\n* 1 tablespoon of fresh ginger, grated\\n* 1 tablespoon of curry powder\\n* 1 teaspoon of cumin seeds\\n* 1 can (14 oz) of diced tomatoes\\n* 1 can (14 oz) of coconut milk\\n* 1 cup of chopped vegetables (such as carrots, bell peppers, and zucchini)\\n* Salt and pepper to taste\\n* Cilantro for garnish (optional)\\n\\nInstructions:\\n\\n1. Heat the oil in a large pot over medium heat. Add the onion, garlic, and ginger and sauté until the onion is translucent.\\n2. Add the curry powder and cumin seeds and cook for another minute, stirring constantly.\\n3. Add the diced tomatoes, coconut milk, chopped vegetables, salt, and pepper. Bring to a boil, then reduce the heat and let it simmer for 10-15 minutes or until the vegetables are tender.\\n4. Taste and adjust seasoning as needed. Serve hot with rice or naan bread, garnished with cilantro if desired. Enjoy!\")"
      ]
     },
     "execution_count": 15,
     "metadata": {},
     "output_type": "execute_result"
    }
   ],
   "source": [
    "mistral_chain = mistral_prompt | mistral\n",
    "\n",
    "mistral_chain.invoke({})"
   ]
  },
  {
   "cell_type": "code",
   "execution_count": null,
   "metadata": {},
   "outputs": [],
   "source": []
  }
 ],
 "metadata": {
  "kernelspec": {
   "display_name": "env",
   "language": "python",
   "name": "python3"
  },
  "language_info": {
   "codemirror_mode": {
    "name": "ipython",
    "version": 3
   },
   "file_extension": ".py",
   "mimetype": "text/x-python",
   "name": "python",
   "nbconvert_exporter": "python",
   "pygments_lexer": "ipython3",
   "version": "3.11.0rc1"
  }
 },
 "nbformat": 4,
 "nbformat_minor": 2
}
