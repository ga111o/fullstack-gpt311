{
 "cells": [
  {
   "cell_type": "code",
   "execution_count": 1,
   "metadata": {},
   "outputs": [],
   "source": [
    "from langchain.chat_models import ChatOllama\n",
    "from langchain.schema import HumanMessage, AIMessage, SystemMessage\n",
    "from langchain.prompts import PromptTemplate, ChatPromptTemplate\n",
    "from langchain.callbacks import StreamingStdOutCallbackHandler\n",
    "from langchain.cache import SQLiteCache #cashing at memory and sqlite\n",
    "from langchain.globals import set_llm_cache"
   ]
  },
  {
   "cell_type": "code",
   "execution_count": 2,
   "metadata": {},
   "outputs": [],
   "source": [
    "ollama = ChatOllama(\n",
    "    model = \"mistral:latest\",\n",
    "    temperature=0.1,\n",
    "    streaming=True,\n",
    "    callbacks=[StreamingStdOutCallbackHandler()]\n",
    ")"
   ]
  },
  {
   "cell_type": "code",
   "execution_count": 5,
   "metadata": {},
   "outputs": [
    {
     "name": "stdout",
     "output_type": "stream",
     "text": [
      "\n",
      "Curry is a delicious and versatile dish that can be made with a variety of ingredients. Here's a simple recipe for chicken curry that you can easily make at home:\n",
      "\n",
      "Ingredients:\n",
      "\n",
      "* 1 pound boneless, skinless chicken breasts, cut into bite-sized pieces\n",
      "* 2 tablespoons vegetable oil\n",
      "* 1 onion, chopped\n",
      "* 3 cloves garlic, minced\n",
      "* 1 tablespoon fresh ginger, grated\n",
      "* 2 tablespoons curry powder\n",
      "* 1 teaspoon cumin seeds\n",
      "* 1 can (14 oz) diced tomatoes\n",
      "* 1 can (14 oz) coconut milk\n",
      "* Salt and pepper to taste\n",
      "* Fresh cilantro, chopped (optional)\n",
      "\n",
      "Instructions:\n",
      "\n",
      "1. Heat the vegetable oil in a large pot or Dutch oven over medium heat. Add the onion, garlic, and ginger and sauté until softened, about 3-4 minutes.\n",
      "2. Stir in the curry powder and cumin seeds and cook for another minute, until fragrant.\n",
      "3. Add the chicken to the pot and stir to coat with the spice mixture. Cook until browned on all sides, about 5-7 minutes.\n",
      "4. Pour in the diced tomatoes and coconut milk and bring the mixture to a simmer. Reduce the heat to low and let the curry cook for about 20-25 minutes, or until the chicken is cooked through and the sauce has thickened.\n",
      "5. Season with salt and pepper to taste. Serve the curry hot, over rice or with naan bread, and garnish with fresh cilantro if desired. Enjoy!\n",
      "As a vegetarian chef, I can suggest some alternative ingredients for this chicken curry recipe. Here are the modified ingredients and their preparation:\n",
      "\n",
      "Ingredients:\n",
      "\n",
      "* 1 pound boneless, skinless tofu or seitan, cut into bite-sized pieces\n",
      "* 2 tablespoons vegetable oil\n",
      "* 1 onion, chopped\n",
      "* 3 cloves garlic, minced\n",
      "* 1 tablespoon fresh ginger, grated\n",
      "* 2 tablespoons curry powder\n",
      "* 1 teaspoon cumin seeds\n",
      "* 1 can (14 oz) diced tomatoes\n",
      "* 1 can (14 oz) coconut milk\n",
      "* Salt and pepper to taste\n",
      "* Fresh cilantro, chopped (optional)\n",
      "\n",
      "Instructions:\n",
      "\n",
      "1. Heat the vegetable oil in a large pot or Dutch oven over medium heat. Add the onion, garlic, and ginger and sauté until softened, about 3-4 minutes.\n",
      "2. Stir in the curry powder and cumin seeds and cook for another minute, until fragrant.\n",
      "3. Add the tofu or seitan to the pot and stir to coat with the spice mixture. Cook until browned on all sides, about 5-7 minutes.\n",
      "4. Pour in the diced tomatoes and coconut milk and bring the mixture to a simmer. Reduce the heat to low and let the curry cook for about 20-25 minutes, or until the tofu or seitan is cooked through and the sauce has thickened.\n",
      "5. Season with salt and pepper to taste. Serve the curry hot, over rice or with naan bread, and garnish with fresh cilantro if desired. Enjoy!"
     ]
    },
    {
     "data": {
      "text/plain": [
       "AIMessage(content='\\nAs a vegetarian chef, I can suggest some alternative ingredients for this chicken curry recipe. Here are the modified ingredients and their preparation:\\n\\nIngredients:\\n\\n* 1 pound boneless, skinless tofu or seitan, cut into bite-sized pieces\\n* 2 tablespoons vegetable oil\\n* 1 onion, chopped\\n* 3 cloves garlic, minced\\n* 1 tablespoon fresh ginger, grated\\n* 2 tablespoons curry powder\\n* 1 teaspoon cumin seeds\\n* 1 can (14 oz) diced tomatoes\\n* 1 can (14 oz) coconut milk\\n* Salt and pepper to taste\\n* Fresh cilantro, chopped (optional)\\n\\nInstructions:\\n\\n1. Heat the vegetable oil in a large pot or Dutch oven over medium heat. Add the onion, garlic, and ginger and sauté until softened, about 3-4 minutes.\\n2. Stir in the curry powder and cumin seeds and cook for another minute, until fragrant.\\n3. Add the tofu or seitan to the pot and stir to coat with the spice mixture. Cook until browned on all sides, about 5-7 minutes.\\n4. Pour in the diced tomatoes and coconut milk and bring the mixture to a simmer. Reduce the heat to low and let the curry cook for about 20-25 minutes, or until the tofu or seitan is cooked through and the sauce has thickened.\\n5. Season with salt and pepper to taste. Serve the curry hot, over rice or with naan bread, and garnish with fresh cilantro if desired. Enjoy!')"
      ]
     },
     "execution_count": 5,
     "metadata": {},
     "output_type": "execute_result"
    }
   ],
   "source": [
    "from operator import itemgetter\n",
    "\n",
    "chef = ChatPromptTemplate.from_messages([\n",
    "    (\"system\", \"You are a world-class international chef. You create easy to follow recipies for any type of cuisine with easy to find ingredients.\"),\n",
    "    (\"human\", \"give me recipe of {cuisine}\"),\n",
    "])\n",
    "# translator = ChatPromptTemplate.from_messages([\n",
    "#     (\"system\", \"you are a translator. you must translate english to {language}\"),\n",
    "#     (\"human\", \"{output}\"),\n",
    "# ])\n",
    "recipe_to_other = ChatPromptTemplate.from_messages([\n",
    "    (\"system\", \"You are a chef specialized on making traditional recipes {asdf}. You find alternative ingredients and explain their preparation. You don't radically modify the recipe. If there is no alternative for a food just say you don't know how to recipe it.\"),\n",
    "        (\"human\", \"{output}\"),\n",
    "])\n",
    "\n",
    "recipe_chain = chef | ollama\n",
    "# translate_chain = translator | ollama\n",
    "recipe_to_other_recipe_chain = recipe_to_other | ollama\n",
    "\n",
    "complete_chain = ({\n",
    "        \"output\": recipe_chain,\n",
    "        \"asdf\": itemgetter(\"asdf\")\n",
    "        } | recipe_to_other_recipe_chain\n",
    "    )\n",
    "\n",
    "complete_chain.invoke({\n",
    "    'asdf': \" vegetarian\",\n",
    "    'cuisine': \"curry\"\n",
    "    })"
   ]
  },
  {
   "cell_type": "code",
   "execution_count": null,
   "metadata": {},
   "outputs": [],
   "source": [
    "complete_chain = ({\"output\": recipe_chain, \"asdf\": itemgetter(\"asdf\")} | recipe_to_other_recipe_chain)\n",
    "\n",
    "complete_chain.invoke({\n",
    "    'asdf': \" vegetarian\",\n",
    "    'cuisine': \"curry\"\n",
    "    })"
   ]
  }
 ],
 "metadata": {
  "kernelspec": {
   "display_name": "env",
   "language": "python",
   "name": "python3"
  },
  "language_info": {
   "codemirror_mode": {
    "name": "ipython",
    "version": 3
   },
   "file_extension": ".py",
   "mimetype": "text/x-python",
   "name": "python",
   "nbconvert_exporter": "python",
   "pygments_lexer": "ipython3",
   "version": "3.11.0rc1"
  }
 },
 "nbformat": 4,
 "nbformat_minor": 2
}
