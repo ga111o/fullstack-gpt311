{
 "cells": [
  {
   "cell_type": "code",
   "execution_count": 3,
   "metadata": {},
   "outputs": [],
   "source": [
    "from langchain.chat_models import ChatOllama\n",
    "from langchain.schema import HumanMessage, AIMessage, SystemMessage\n",
    "from langchain.prompts import PromptTemplate, ChatPromptTemplate\n",
    "from langchain.callbacks import StreamingStdOutCallbackHandler"
   ]
  },
  {
   "cell_type": "code",
   "execution_count": 4,
   "metadata": {},
   "outputs": [],
   "source": [
    "ollama = ChatOllama(\n",
    "    model = \"mistral:latest\",\n",
    "    temperature=0.1,\n",
    "    streaming=True,\n",
    "    callbacks=[StreamingStdOutCallbackHandler()]\n",
    ")"
   ]
  },
  {
   "cell_type": "code",
   "execution_count": 5,
   "metadata": {},
   "outputs": [],
   "source": [
    "normal_chef = ChatPromptTemplate.from_messages([\n",
    "    (\"system\", \"You are a world-class international chef. You create easy to follow recipies for any type of cuisine with easy to find ingredients.\"),\n",
    "    (\"human\", \"give me recipe of {cuisine}\"),\n",
    "])\n",
    "\n",
    "veg_chef = ChatPromptTemplate.from_messages([\n",
    "    (\"system\", \"You are a vegetarian chef specialized on making traditional recipes vegetarian. You find alternative ingredients and explain their preparation. You don't radically modify the recipe. If there is no alternative for a food just say you don't know how to recipe it.\"),\n",
    "    (\"human\", \"{recipe}\"),\n",
    "])"
   ]
  },
  {
   "cell_type": "code",
   "execution_count": 6,
   "metadata": {},
   "outputs": [],
   "source": [
    "normal_recipe_chain = normal_chef | ollama\n",
    "veg_recipe_chain = veg_chef | ollama"
   ]
  },
  {
   "cell_type": "code",
   "execution_count": 8,
   "metadata": {},
   "outputs": [
    {
     "name": "stdout",
     "output_type": "stream",
     "text": [
      "\n",
      "Curry is a delicious and versatile dish that can be made with a variety of ingredients. Here's a simple recipe for chicken curry that you can easily make at home:\n",
      "\n",
      "Ingredients:\n",
      "\n",
      "* 1 pound boneless, skinless chicken breasts, cut into bite-sized pieces\n",
      "* 2 tablespoons vegetable oil\n",
      "* 1 onion, chopped\n",
      "* 3 cloves garlic, minced\n",
      "* 1 tablespoon fresh ginger, grated\n",
      "* 2 tablespoons curry powder\n",
      "* 1 teaspoon cumin seeds\n",
      "* 1 can (14 ounces) diced tomatoes\n",
      "* 1 can (14 ounces) coconut milk\n",
      "* Salt and pepper to taste\n",
      "* Fresh cilantro, chopped (optional)\n",
      "\n",
      "Instructions:\n",
      "\n",
      "1. Heat the vegetable oil in a large pot or Dutch oven over medium heat. Add the onion, garlic, and ginger and cook until softened, about 3-4 minutes.\n",
      "2. Stir in the curry powder and cumin seeds and cook for another minute, until fragrant.\n",
      "3. Add the chicken to the pot and cook until browned on all sides, about 5-7 minutes.\n",
      "4. Pour in the diced tomatoes and coconut milk and bring the mixture to a simmer. Reduce the heat to low and let the curry cook for about 20-25 minutes, or until the chicken is cooked through and the sauce has thickened.\n",
      "5. Season with salt and pepper to taste. Serve the curry hot, over rice or with naan bread, and garnish with fresh cilantro if desired. Enjoy!As a vegetarian chef, I can suggest some alternative ingredients for this chicken curry recipe to make it vegetarian-friendly. Here are the modified ingredients and instructions:\n",
      "\n",
      "Ingredients:\n",
      "\n",
      "* 1 pound firm tofu, cut into bite-sized pieces\n",
      "* 2 tablespoons vegetable oil\n",
      "* 1 onion, chopped\n",
      "* 3 cloves garlic, minced\n",
      "* 1 tablespoon fresh ginger, grated\n",
      "* 2 tablespoons curry powder\n",
      "* 1 teaspoon cumin seeds\n",
      "* 1 can (14 ounces) diced tomatoes\n",
      "* 1 can (14 ounces) coconut milk\n",
      "* Salt and pepper to taste\n",
      "* Fresh cilantro, chopped (optional)\n",
      "\n",
      "Instructions:\n",
      "\n",
      "1. Heat the vegetable oil in a large pot or Dutch oven over medium heat. Add the onion, garlic, and ginger and cook until softened, about 3-4 minutes.\n",
      "2. Stir in the curry powder and cumin seeds and cook for another minute, until fragrant.\n",
      "3. Add the tofu to the pot and cook until browned on all sides, about 5-7 minutes.\n",
      "4. Pour in the diced tomatoes and coconut milk and bring the mixture to a simmer. Reduce the heat to low and let the curry cook for about 20-25 minutes, or until the tofu is cooked through and the sauce has thickened.\n",
      "5. Season with salt and pepper to taste. Serve the curry hot, over rice or with naan bread, and garnish with fresh cilantro if desired. Enjoy!"
     ]
    },
    {
     "data": {
      "text/plain": [
       "AIMessage(content='As a vegetarian chef, I can suggest some alternative ingredients for this chicken curry recipe to make it vegetarian-friendly. Here are the modified ingredients and instructions:\\n\\nIngredients:\\n\\n* 1 pound firm tofu, cut into bite-sized pieces\\n* 2 tablespoons vegetable oil\\n* 1 onion, chopped\\n* 3 cloves garlic, minced\\n* 1 tablespoon fresh ginger, grated\\n* 2 tablespoons curry powder\\n* 1 teaspoon cumin seeds\\n* 1 can (14 ounces) diced tomatoes\\n* 1 can (14 ounces) coconut milk\\n* Salt and pepper to taste\\n* Fresh cilantro, chopped (optional)\\n\\nInstructions:\\n\\n1. Heat the vegetable oil in a large pot or Dutch oven over medium heat. Add the onion, garlic, and ginger and cook until softened, about 3-4 minutes.\\n2. Stir in the curry powder and cumin seeds and cook for another minute, until fragrant.\\n3. Add the tofu to the pot and cook until browned on all sides, about 5-7 minutes.\\n4. Pour in the diced tomatoes and coconut milk and bring the mixture to a simmer. Reduce the heat to low and let the curry cook for about 20-25 minutes, or until the tofu is cooked through and the sauce has thickened.\\n5. Season with salt and pepper to taste. Serve the curry hot, over rice or with naan bread, and garnish with fresh cilantro if desired. Enjoy!')"
      ]
     },
     "execution_count": 8,
     "metadata": {},
     "output_type": "execute_result"
    }
   ],
   "source": [
    "normalRecipe_to_vegRecipe_chain = {\"recipe\": normal_recipe_chain} | veg_recipe_chain\n",
    "\n",
    "normalRecipe_to_vegRecipe_chain.invoke({\n",
    "    \"cuisine\":\"curry\"\n",
    "})"
   ]
  },
  {
   "cell_type": "markdown",
   "metadata": {},
   "source": [
    "<hr/>"
   ]
  },
  {
   "cell_type": "code",
   "execution_count": null,
   "metadata": {},
   "outputs": [],
   "source": [
    "language_translator = ChatPromptTemplate.from_messages([\n",
    "    (\"system\", \"You are a english to {language} translator\"),\n",
    "    (\"human\", \"{output}\"),\n",
    "])\n",
    "\n",
    "language_translate_chain = language_translator | ollama"
   ]
  },
  {
   "cell_type": "code",
   "execution_count": null,
   "metadata": {},
   "outputs": [],
   "source": [
    "EngRecipe_to_anotherlangRecipe = {\"output\":normal_recipe_chain} | language_translate_chain\n",
    "\n",
    "language_translate_chain({\n",
    "    \"language\": \"korean\"\n",
    "})\n",
    "\n",
    "EngRecipe_to_anotherlangRecipe.invoke({\"cuisine\":\"milk tea\"})\n"
   ]
  }
 ],
 "metadata": {
  "kernelspec": {
   "display_name": "env",
   "language": "python",
   "name": "python3"
  },
  "language_info": {
   "codemirror_mode": {
    "name": "ipython",
    "version": 3
   },
   "file_extension": ".py",
   "mimetype": "text/x-python",
   "name": "python",
   "nbconvert_exporter": "python",
   "pygments_lexer": "ipython3",
   "version": "3.11.0rc1"
  }
 },
 "nbformat": 4,
 "nbformat_minor": 2
}
