{
 "cells": [
  {
   "cell_type": "code",
   "execution_count": 1,
   "metadata": {},
   "outputs": [],
   "source": [
    "from langchain.chat_models import ChatOllama\n",
    "from langchain.schema import HumanMessage, AIMessage, SystemMessage\n",
    "from langchain.prompts import PromptTemplate, ChatPromptTemplate\n",
    "from langchain.callbacks import StreamingStdOutCallbackHandler\n",
    "from langchain.cache import SQLiteCache #cashing at memory and sqlite\n",
    "from langchain.globals import set_llm_cache"
   ]
  },
  {
   "cell_type": "code",
   "execution_count": 2,
   "metadata": {},
   "outputs": [],
   "source": [
    "ollama = ChatOllama(\n",
    "    model = \"mistral:latest\",\n",
    "    temperature=0.1,\n",
    "    streaming=True,\n",
    "    callbacks=[StreamingStdOutCallbackHandler()]\n",
    ")"
   ]
  },
  {
   "cell_type": "code",
   "execution_count": 4,
   "metadata": {},
   "outputs": [
    {
     "name": "stdout",
     "output_type": "stream",
     "text": [
      "\n",
      "Milk Tea Recipe:\n",
      "\n",
      "Ingredients:\n",
      "\n",
      "* 1 cup of water\n",
      "* 2 black tea bags\n",
      "* 2 cups of milk\n",
      "* 3 tablespoons of sugar (or to taste)\n",
      "* 1/4 teaspoon of ground cinnamon (optional)\n",
      "* 1/4 teaspoon of ground ginger (optional)\n",
      "* 1/4 teaspoon of ground cloves (optional)\n",
      "\n",
      "Instructions:\n",
      "\n",
      "1. In a medium-sized saucepan, bring the water to a boil over high heat.\n",
      "2. Add the tea bags and let them steep for about 3 minutes.\n",
      "3. Remove the tea bags from the water and discard them.\n",
      "4. Pour the milk into the saucepan with the tea and stir well.\n",
      "5. Add the sugar, cinnamon, ginger, and cloves (if using) to the saucepan and stir until the sugar is dissolved.\n",
      "6. Reduce the heat to low and let the mixture simmer for about 5 minutes, or until it thickens slightly.\n",
      "7. Remove the saucepan from the heat and let it cool down for a few minutes.\n",
      "8. Strain the tea into a teapot or directly into cups and serve hot.\n",
      "\n",
      "Enjoy your delicious milk tea!\n"
     ]
    },
    {
     "data": {
      "text/plain": [
       "AIMessage(content='\\n')"
      ]
     },
     "execution_count": 4,
     "metadata": {},
     "output_type": "execute_result"
    }
   ],
   "source": [
    "from operator import itemgetter\n",
    "\n",
    "chef = ChatPromptTemplate.from_messages([\n",
    "    (\"system\", \"You are a world-class international chef. You create easy to follow recipies for any type of cuisine with easy to find ingredients.\"),\n",
    "    (\"human\", \"give me recipe of {cuisine}\"),\n",
    "])\n",
    "translator = ChatPromptTemplate.from_messages([\n",
    "    (\"system\", \"you are a translator. you must translate english to {language}\"),\n",
    "    (\"human\", \"{output}\"),\n",
    "])\n",
    "recipe_to_other = ChatPromptTemplate.from_messages([\n",
    "    (\"system\", \"You are a chef specialized on making traditional recipes {asdf}. You find alternative ingredients and explain their preparation. You don't radically modify the recipe. If there is no alternative for a food just say you don't know how to recipe it.\"),\n",
    "        (\"human\", \"{output}\"),\n",
    "])\n",
    "\n",
    "recipe_chain = chef | ollama\n",
    "translate_chain = translator | ollama\n",
    "recipe_to_other_chain = recipe_to_other | ollama\n",
    "\n",
    "complete_chain = ({\n",
    "        \"output\": recipe_chain,\n",
    "        \"language\": itemgetter(\"language\")\n",
    "        } | translate_chain\n",
    "    )\n",
    "\n",
    "complete_chain.invoke({\n",
    "    'language': \"korean\",\n",
    "    'cuisine': \"milk tea\"\n",
    "    })"
   ]
  }
 ],
 "metadata": {
  "kernelspec": {
   "display_name": "env",
   "language": "python",
   "name": "python3"
  },
  "language_info": {
   "codemirror_mode": {
    "name": "ipython",
    "version": 3
   },
   "file_extension": ".py",
   "mimetype": "text/x-python",
   "name": "python",
   "nbconvert_exporter": "python",
   "pygments_lexer": "ipython3",
   "version": "3.11.0rc1"
  }
 },
 "nbformat": 4,
 "nbformat_minor": 2
}
