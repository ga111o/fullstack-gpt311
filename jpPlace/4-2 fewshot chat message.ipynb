{
    "cells": [
        {
            "cell_type": "code",
            "execution_count": 3,
            "metadata": {},
            "outputs": [],
            "source": [
                "from langchain.chat_models import ChatOllama\n",
                "from langchain.prompts import ChatPromptTemplate\n",
                "from langchain.schema import BaseOutputParser\n",
                "from langchain.callbacks import StreamingStdOutCallbackHandler\n",
                "from langchain.prompts.few_shot import FewShotPromptTemplate, FewShotChatMessagePromptTemplate"
            ]
        },
        {
            "cell_type": "code",
            "execution_count": 4,
            "metadata": {},
            "outputs": [],
            "source": [
                "ollama = ChatOllama(\n",
                "    model = \"mistral:latest\",\n",
                "    temperature=0.1,\n",
                "    streaming=True,\n",
                "    callbacks=[StreamingStdOutCallbackHandler()]\n",
                ")"
            ]
        },
        {
            "cell_type": "code",
            "execution_count": 5,
            "metadata": {},
            "outputs": [],
            "source": [
                "examples_recommend_Osaka = [\n",
                "{\n",
                "\"question\": \"What do you know about japan(Osaka) recommend place?\",\n",
                "\"answer\": \"\"\"\n",
                "Place: Osaka Castle\n",
                "Feature: Osaka Castle is a historically significant Japanese fortress featuring imposing stone walls, moats, multistory donjon (keep), and picturesque cherry blossoms in its sprawling grounds.\n",
                "Recommend Time: 13:00 ~ 15:00\n",
                "Prediction Total Cost: 800 yen\n",
                "Key Components:\n",
                "    1. Museum Exhibits: Several floors are dedicated to museum space that showcases armor, weapons, screens, and artifacts related to the castle’s history, the life of Toyotomi Hideyoshi (the castle’s original builder), and the various battles fought there.\n",
                "    2. Observation Deck: The topmost floor of Osaka Castle is usually an observation deck with panoramic views of the surrounding city and the castle grounds.\n",
                "    3. Media Rooms: Some rooms are fitted with screens and projectors to show films and documentaries about the castle’s history and the broader context of Osaka’s role in Japanese history.\n",
                "\"\"\",\n",
                "},\n",
                "{\n",
                "\"question\": \"What do you know about japan(Osaka)?\",\n",
                "\"answer\": \"\"\"\n",
                "Place: Universal Studios Japan\n",
                "Feature: Universal Studios Japan (USJ), a thrilling theme park located in the bustling city of Osaka, offers an array of exciting rides, shows, and attractions, including areas based on popular movies and franchises such as Harry Potter, Minions, and Jurassic Park.\n",
                "Prediction Total Cost: 7,800 yen\n",
                "Recommend Time: 09:00 ~ 21:00\n",
                "Key Components:\n",
                "    1. The Wizarding World of Harry Potter: Immerse yourself in the magic with attractions like Hogwarts Castle, the Forbidden Journey ride, and Ollivander’s Wand Shop, where the wand chooses the wizard.\n",
                "    2. Minion Park: The world’s largest Despicable Me Minion-themed area, featuring a Minion Mayhem ride, interactive play areas, and plenty of Minion merchandise.\n",
                "    3. Jurassic Park: The Real: Experience the thrills of the dinosaur-themed area with attractions such as the Flying Dinosaur coaster and the Jurassic Park – The Ride water adventure.\n",
                "\"\"\",\n",
                "},\n",
                "{\n",
                "\"question\": \"What do you know about japna(Osaka)\",\n",
                "\"answer\": \"\"\"\n",
                "Place: Tempozan Giant Ferris Wheel\n",
                "Feature: The Tempozan Giant Ferris Wheel, located in the vibrant harbor area of Osaka, is one of the city’s most recognizable landmarks and offers a spectacular view of the bay area, the Osaka skyline, and distant mountains on clear days.\n",
                "Prediction Total Cost: 1,000 yen\n",
                "Recommend Time: 18:00 ~ 20:00\n",
                "Key Components:\n",
                "    1. Panoramic Views: The 15-minute ride provides a stunning 360-degree panorama from a height of 112.5 meters, making it one of the tallest Ferris wheels in Japan.\n",
                "    2. Clear-Bottomed Gondolas: For those seeking an extra thrill, one can choose a cabin with a transparent floor, giving a unique perspective and enhancing the exciting experience as you look down below.\n",
                "    3. Photo Spots: There are multiple areas around the Ferris wheel to take photos, including statues and signboards, making for a great memory of your visit.\n",
                "\"\"\",\n",
                "},\n",
                "]\n",
                "\n",
                "# #same var\n",
                "# example_prompt_template = \"\"\"\n",
                "# Human: {country}\n",
                "# Ai:{answer} \n",
                "# \"\"\"\n",
                "\n",
                "prompt_Osaka_place = ChatPromptTemplate.from_messages([\n",
                "    (\"human\", \"What do you know about japan(Osaka) recommend place?\"),\n",
                "    (\"ai\", \"{answer}\")\n",
                "])"
            ]
        },
        {
            "cell_type": "code",
            "execution_count": 6,
            "metadata": {},
            "outputs": [],
            "source": [
                "#format each examples\n",
                "\n",
                "prompt_country_example = FewShotChatMessagePromptTemplate(\n",
                "    example_prompt = prompt_Osaka_place,\n",
                "    examples = examples_recommend_Osaka,\n",
                ")"
            ]
        },
        {
            "cell_type": "code",
            "execution_count": 33,
            "metadata": {},
            "outputs": [
                {
                    "name": "stdout",
                    "output_type": "stream",
                    "text": [
                        "I know this:\n",
                        "Capital: Berlin\n",
                        "Language: German\n",
                        "Food: Sausages and Beer\n",
                        "Currency: Euro"
                    ]
                },
                {
                    "data": {
                        "text/plain": [
                            "AIMessage(content='I know this:\\nCapital: Berlin\\nLanguage: German\\nFood: Sausages and Beer\\nCurrency: Euro')"
                        ]
                    },
                    "execution_count": 33,
                    "metadata": {},
                    "output_type": "execute_result"
                }
            ],
            "source": [
                "chain = prompt_country_example | ollama\n",
                "\n",
                "\n",
                "chain.invoke({\n",
                "    \"country\":\"Germany\"\n",
                "})"
            ]
        }
    ],
    "metadata": {
        "kernelspec": {
            "display_name": "env",
            "language": "python",
            "name": "python3"
        },
        "language_info": {
            "codemirror_mode": {
                "name": "ipython",
                "version": 3
            },
            "file_extension": ".py",
            "mimetype": "text/x-python",
            "name": "python",
            "nbconvert_exporter": "python",
            "pygments_lexer": "ipython3",
            "version": "3.11.0rc1"
        }
    },
    "nbformat": 4,
    "nbformat_minor": 2
}
