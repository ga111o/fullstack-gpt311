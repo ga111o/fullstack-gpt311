{
 "cells": [
  {
   "cell_type": "code",
   "execution_count": 1,
   "metadata": {},
   "outputs": [],
   "source": [
    "from langchain.chat_models import ChatOllama\n"
   ]
  },
  {
   "cell_type": "code",
   "execution_count": 13,
   "metadata": {},
   "outputs": [],
   "source": [
    "from langchain.prompts import PromptTemplate, ChatPromptTemplate\n",
    "\n",
    "chat = ChatOllama(\n",
    "    model = \"mistral:latest\",\n",
    "    temperature=0.1,\n",
    ")  \n",
    "\n",
    "template = PromptTemplate.from_template(\"what is different of {hardware1} and {hardware2}\")\n",
    "prompt = template.format(hardware1 = \"memory\", hardware2 = \"SSD\")\n"
   ]
  },
  {
   "cell_type": "code",
   "execution_count": 26,
   "metadata": {},
   "outputs": [],
   "source": [
    "\n",
    "template =  ChatPromptTemplate.from_messages([\n",
    "    (\"system\", \"you are a Korean Computer Science expert. and you must only reply korean\"),\n",
    "    (\"ai\",\"안녕하세요.제 이름은 {ai_name}입니다.\"),\n",
    "    (\"human\",\"what is different of {hardware1} and {hardware2}\"),\n",
    "])"
   ]
  },
  {
   "cell_type": "markdown",
   "metadata": {},
   "source": [
    "> prompt is the only way connect to LLM"
   ]
  },
  {
   "cell_type": "code",
   "execution_count": 27,
   "metadata": {},
   "outputs": [
    {
     "data": {
      "text/plain": [
       "AIMessage(content='\\nCPU (Central Processing Unit) 및 GPU (Graphics Processing Unit)는 컴퓨터의 주요 하드웨어 구성 중 하나입니다. CPU는 모든 프로그램을 실행하기 위해 필요한 일반적인 계산을 수행합니다. GPU는 그래픽과 비디오 처리를 위해 특별히 설계된 침라이드 프로세스러입니다.\\n\\nCPU는 단일 코어에서 한 번에 하나의 명령을 실행합니다. GPU는 많은 코어를 가지고 여러 명령을 동시에 실행할 수 있습니다. 또한 CPU는 메모리 접근이 느껴질 수 있으며, GPU는 메모리 접속이 빠르게 일어나고 있습니다.\\n\\nCPU와 GPU의 성능은 프로그램에 따라 다를 수 있습니다. CPU가 더 많은 계산을 수행하는 데 필요한 경우, GPU는 그래픽과 비디오 처리에 특히 적합합니다. 또한 GPU는 병렬 처리를 통해 더 빠르게 일어나고 있습니다.\\n\\n결론적으로 CPU와 GPU의 차이점은 CPU는 일반적인 계산을 수행하기 위해 필요한 것으로, GPU는 그래픽과 비디오 처리를 위해 특별히 설계된 침라이드 프로세스러입니다.')"
      ]
     },
     "execution_count": 27,
     "metadata": {},
     "output_type": "execute_result"
    }
   ],
   "source": [
    "prompt = template.format_messages(\n",
    "    ai_name = \"ga111o\",\n",
    "    hardware1 = \"cpu\",\n",
    "    hardware2 = \"gpu\")\n",
    "\n",
    "chat.predict_messages(prompt)"
   ]
  },
  {
   "cell_type": "code",
   "execution_count": null,
   "metadata": {},
   "outputs": [],
   "source": []
  }
 ],
 "metadata": {
  "kernelspec": {
   "display_name": "env",
   "language": "python",
   "name": "python3"
  },
  "language_info": {
   "codemirror_mode": {
    "name": "ipython",
    "version": 3
   },
   "file_extension": ".py",
   "mimetype": "text/x-python",
   "name": "python",
   "nbconvert_exporter": "python",
   "pygments_lexer": "ipython3",
   "version": "3.11.0rc1"
  }
 },
 "nbformat": 4,
 "nbformat_minor": 2
}
