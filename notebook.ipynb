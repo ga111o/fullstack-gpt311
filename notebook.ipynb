{
 "cells": [
  {
   "cell_type": "markdown",
   "metadata": {},
   "source": [
    "\n",
    "---\n",
    "\n",
    "# chain\n",
    "\n",
    "```\n",
    "chain = template | chat | parseFunc()\n",
    "chain.invoke({\n",
    "    \"inner_argument\":\"asdfasdf\",\n",
    "})\n",
    "```\n",
    "\n",
    "**chain** is composed `Template`,`Language Model`, `Output Parser`\n",
    "\n",
    "internally, langchain call `format_messages()`, tehn call `chat.predict()`, then call `parseFunc()`"
   ]
  },
  {
   "cell_type": "code",
   "execution_count": 2,
   "metadata": {},
   "outputs": [],
   "source": [
    "from langchain.chat_models import ChatOllama\n",
    "from langchain.prompts import ChatPromptTemplate\n",
    "from langchain.schema import BaseOutputParser\n",
    "\n",
    "\n",
    "# model\n",
    "\n",
    "chat = ChatOllama(\n",
    "    model = \"mistral:latest\",\n",
    "    temperature=0.1,\n",
    ")"
   ]
  },
  {
   "cell_type": "code",
   "execution_count": 13,
   "metadata": {},
   "outputs": [
    {
     "data": {
      "text/plain": [
       "['1. color1', '2. color2', '3. color3']"
      ]
     },
     "execution_count": 13,
     "metadata": {},
     "output_type": "execute_result"
    }
   ],
   "source": [
    "class CommaOutputParser(BaseOutputParser):\n",
    "    def parse(self, text: str):\n",
    "        items = text.strip().split(\",\")\n",
    "        return list(map(str.strip, items))\n",
    "\n",
    "CommaOutputParser().parse(\"1. color1,\\n2. color2,\\n3. color3\")"
   ]
  },
  {
   "cell_type": "code",
   "execution_count": 10,
   "metadata": {},
   "outputs": [],
   "source": [
    "#template\n",
    "\n",
    "template = ChatPromptTemplate.from_messages([\n",
    "    (\"system\", \"you are list generator. everything you are asked will be answered with a COMMA SEPARATED list of max {max_itm} in lowercase. do NOT reply else. must be COMMA SEPARATED LIST\"),\n",
    "    (\"human\", \"{question}\"),\n",
    "])"
   ]
  },
  {
   "cell_type": "code",
   "execution_count": 12,
   "metadata": {},
   "outputs": [
    {
     "data": {
      "text/plain": [
       "['1. red',\n",
       " 'blue',\n",
       " 'green',\n",
       " 'yellow',\n",
       " 'orange\\n2. purple',\n",
       " 'pink',\n",
       " 'brown',\n",
       " 'gray',\n",
       " 'black\\n3. white',\n",
       " 'silver',\n",
       " 'gold',\n",
       " 'maroon',\n",
       " 'navy\\n4. teal',\n",
       " 'coral',\n",
       " 'turquoise',\n",
       " 'magenta',\n",
       " 'lavender\\n5. olive',\n",
       " 'beige',\n",
       " 'mustard',\n",
       " 'peach',\n",
       " 'plum']"
      ]
     },
     "execution_count": 12,
     "metadata": {},
     "output_type": "execute_result"
    }
   ],
   "source": [
    "chain = template | chat | CommaOutputParser()\n",
    "\n",
    "chain.invoke({\"max_itm\": 5, \"question\": \"What are the colour?\"})\n",
    "\n",
    "# i think this output is just Model's limit"
   ]
  },
  {
   "cell_type": "code",
   "execution_count": null,
   "metadata": {},
   "outputs": [],
   "source": []
  }
 ],
 "metadata": {
  "kernelspec": {
   "display_name": "env",
   "language": "python",
   "name": "python3"
  },
  "language_info": {
   "codemirror_mode": {
    "name": "ipython",
    "version": 3
   },
   "file_extension": ".py",
   "mimetype": "text/x-python",
   "name": "python",
   "nbconvert_exporter": "python",
   "pygments_lexer": "ipython3",
   "version": "3.11.0rc1"
  }
 },
 "nbformat": 4,
 "nbformat_minor": 2
}
