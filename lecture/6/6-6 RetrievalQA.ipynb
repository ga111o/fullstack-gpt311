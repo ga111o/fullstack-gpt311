{
 "cells": [
  {
   "cell_type": "markdown",
   "metadata": {},
   "source": [
    "```\n",
    "embedder = OllamaEmbeddings()\n",
    "\n",
    "vector = embedder.embed_documents([\n",
    "    \"hi\", \"how\", \"are\", \"you\", \"longer some word!\"\n",
    "])\n",
    "\n",
    "for i in range(len(vector)):\n",
    "    print(len(vector[i]))\n",
    "```"
   ]
  },
  {
   "cell_type": "code",
   "execution_count": 6,
   "metadata": {},
   "outputs": [],
   "source": [
    "from langchain.chat_models import ChatOllama\n",
    "from langchain.callbacks import StreamingStdOutCallbackHandler\n",
    "from langchain.document_loaders import UnstructuredFileLoader\n",
    "from langchain.text_splitter import CharacterTextSplitter\n",
    "from langchain.embeddings import OllamaEmbeddings, CacheBackedEmbeddings\n",
    "from langchain.vectorstores import FAISS\n",
    "from langchain.storage import LocalFileStore\n",
    "from langchain.chains import RetrievalQA"
   ]
  },
  {
   "cell_type": "code",
   "execution_count": 7,
   "metadata": {},
   "outputs": [
    {
     "name": "stderr",
     "output_type": "stream",
     "text": [
      "/home/ga111o/Documents/VSCode/fullstack-gpt311/env/lib/python3.11/site-packages/langchain/chains/llm.py:349: UserWarning: The apply_and_parse method is deprecated, instead pass an output parser directly to LLMChain.\n",
      "  warnings.warn(\n"
     ]
    },
    {
     "name": "stdout",
     "output_type": "stream",
     "text": [
      "Question: Describe Victory Mansions\n",
      "\n",
      "Helpful Answer: Victory Mansions is a fictional location described in the context provided. It is a large, imposing building with a grandiose facade and a reputation for being the headquarters of a powerful organization known as the Brotherhood. The building is said to be located in the heart of the city, surrounded by a high wall topped with barbed wire. The exterior is described as a \"monstrous parody\" of a classical building, with columns, arches, and other architectural elements that are meant to evoke a sense of power and grandeur.\n",
      "\n",
      "Score: 80\n",
      "\n",
      "Explanation: While the description of Victory Mansions is quite vivid and detailed, there are some limitations to how fully it answers the user's question. The context provides some information about the location and reputation of the building, but does not provide any specific details about its interior or the activities that take place there. Additionally, the score is lower because while the description is helpful, it is not a direct answer to the user's question about the location of Victory Mansions.Question: Describe Victory Mansions\n",
      "\n",
      "Helpful Answer: Victory Mansions is a dystopian concept, not a physical location. The passage describes a society where people are arrested and disappeared during the night, with no trial or record of their existence. The term \"Victory Mansions\" is likely used to convey the idea of a totalitarian regime that has complete control over its citizens' lives.\n",
      "\n",
      "Score: 80Question: Describe Victory Mansions\n",
      "\n",
      "Helpful Answer: Victory Mansions is a fictional location described in the context provided. It appears to be a large, imposing building with a scarlet sash symbolizing the Junior Anti-Sex League. The building seems to have a militaristic atmosphere, with rows of chairs arranged in the center of the hall opposite a large telescreen. The description suggests that the building is associated with the totalitarian government and its propaganda efforts.\n",
      "\n",
      "Score: 80\n",
      "\n",
      "Explanation of score: I was able to provide a helpful answer based on the context provided, which included details about the location and atmosphere of Victory Mansions. While I don't know the exact layout or interior of the building, I was able to infer some information from the description given. My score reflects my confidence in providing a useful answer based on the available information."
     ]
    }
   ],
   "source": [
    "\n",
    "ollama = ChatOllama(\n",
    "    model = \"llama2:7b\",\n",
    "    temperature=0.1,\n",
    "    streaming=True,\n",
    "    callbacks=[StreamingStdOutCallbackHandler()]\n",
    ")\n",
    "\n",
    "cache_dir = LocalFileStore(\"./.cache/\")\n",
    "\n",
    "splitter = CharacterTextSplitter.from_tiktoken_encoder(\n",
    "    separator=\"\\n\",\n",
    "    chunk_size=600,\n",
    "    chunk_overlap=100,\n",
    ")\n",
    "loader = UnstructuredFileLoader(\"./files/Chaptor One.txt\")\n",
    "\n",
    "docs = loader.load_and_split(text_splitter=splitter)\n",
    "\n",
    "\n",
    "\n",
    "\n",
    "embeddings = OllamaEmbeddings()\n",
    "\n",
    "cached_embeddings = CacheBackedEmbeddings.from_bytes_store(embeddings, cache_dir)\n",
    "\n",
    "vectorstore = FAISS.from_documents(docs, cached_embeddings)\n",
    "\n",
    "chain = RetrievalQA.from_chain_type(\n",
    "    llm=ollama,\n",
    "    chain_type=\"map_rerank\",\n",
    "    retriever=vectorstore.as_retriever(),\n",
    ")\n",
    "\n",
    "chain.run(\"Describe Victory Mansions\")"
   ]
  },
  {
   "cell_type": "code",
   "execution_count": null,
   "metadata": {},
   "outputs": [
    {
     "data": {
      "text/plain": [
       "4"
      ]
     },
     "execution_count": 18,
     "metadata": {},
     "output_type": "execute_result"
    }
   ],
   "source": [
    "result = vectorstore.similarity_search(\"where does winston live?\")\n",
    "\n",
    "len(result)"
   ]
  },
  {
   "cell_type": "code",
   "execution_count": null,
   "metadata": {},
   "outputs": [],
   "source": [
    "chain.run(\"Where does Winston live\")"
   ]
  },
  {
   "cell_type": "code",
   "execution_count": null,
   "metadata": {},
   "outputs": [],
   "source": [
    "chain.run(\"Describe Vectory Mension\")"
   ]
  },
  {
   "cell_type": "code",
   "execution_count": null,
   "metadata": {},
   "outputs": [],
   "source": []
  }
 ],
 "metadata": {
  "kernelspec": {
   "display_name": "env",
   "language": "python",
   "name": "python3"
  },
  "language_info": {
   "codemirror_mode": {
    "name": "ipython",
    "version": 3
   },
   "file_extension": ".py",
   "mimetype": "text/x-python",
   "name": "python",
   "nbconvert_exporter": "python",
   "pygments_lexer": "ipython3",
   "version": "3.11.0rc1"
  }
 },
 "nbformat": 4,
 "nbformat_minor": 2
}
